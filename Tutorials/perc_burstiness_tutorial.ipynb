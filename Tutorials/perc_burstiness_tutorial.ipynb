{
 "cells": [
  {
   "cell_type": "markdown",
   "id": "946461b4",
   "metadata": {},
   "source": [
    "Alright, the purpose of this tutorial is to show how with the template set I can calculate the percent of a fit is dominated by a recent burst and the percent which is the base galaxy.\n",
    "\n",
    "While this might seem fairly easy if the burst was characterized by two kinds of temples: galaxy templates and burst template(s). In that case, I would just see the mass contributed by each template and wipe my hands on my pants and call it a day.\n",
    "\n",
    "However, to set a prior on the max size of the burst, I had to be fancy with its implementation (:D). Thus we have the tutorial notebook to explain how to figure this out.\n",
    "\n",
    "The goal is still the same, but the method is slightly different (just a little).\n",
    "\n",
    "Just like the other tutorials (if you've seen them), I mean to recreate a plot from the paper to explain how I got it. I use the Hainline et al. data like in my paper. See the paper! Download it! Cite it! Talk all about it!"
   ]
  },
  {
   "cell_type": "markdown",
   "id": "cfc7cb96",
   "metadata": {},
   "source": [
    "# Step 0: \n",
    "\n",
    "Setup all which you need!"
   ]
  },
  {
   "cell_type": "code",
   "execution_count": 1,
   "id": "34747bb8",
   "metadata": {},
   "outputs": [
    {
     "name": "stderr",
     "output_type": "stream",
     "text": [
      "<frozen importlib._bootstrap>:228: RuntimeWarning: scipy._lib.messagestream.MessageStream size changed, may indicate binary incompatibility. Expected 56 from C header, got 64 from PyObject\n"
     ]
    }
   ],
   "source": [
    "# imports (does 'imports' make you think of the wine? im-port wine? hah hah hah\n",
    "import numpy as np\n",
    "import matplotlib.pyplot as plt\n",
    "import astropy.units as u\n",
    "\n",
    "import eazy\n",
    "\n",
    "import ares"
   ]
  },
  {
   "cell_type": "code",
   "execution_count": 2,
   "id": "b3ee466c",
   "metadata": {},
   "outputs": [
    {
     "name": "stdout",
     "output_type": "stream",
     "text": [
      "env: EAZYCODE=/Users/judahluberto/python_packages/eazy-py/eazy-photoz\n"
     ]
    }
   ],
   "source": [
    "# add eazycode path for ease\n",
    "import warnings\n",
    "\n",
    "import os\n",
    "\n",
    "%env EAZYCODE=/Users/judahluberto/python_packages/eazy-py/eazy-photoz"
   ]
  },
  {
   "cell_type": "markdown",
   "id": "cc3a3533",
   "metadata": {},
   "source": [
    "# Step 1: Run EAZY\n",
    "\n",
    "Create and run the EAZY instance. I need the fitting coefficients."
   ]
  },
  {
   "cell_type": "code",
   "execution_count": 3,
   "id": "5ebc2803",
   "metadata": {},
   "outputs": [],
   "source": [
    "params = {}\n",
    "\n",
    "# paths and such and stuff\n",
    "# which I need to use for EAZY\n",
    "\n",
    "# CHANGE THIS FILE BELOW IF YOU WANT TO DO IT WITH OTHER DATASETS\n",
    "params['CATALOG_FILE'] = '/Users/judahluberto/hainline_2023_highz_changed.csv'\n",
    "\n",
    "params['FILTERS_RES'] = '/Users/judahluberto/python_packages/eazy-py/eazy-photoz/filters/FILTER.RES.latest'\n",
    "\n",
    "params['MAIN_OUTPUT_FILE'] = '/Users/judahluberto/python_packages/eazy-py/eazy/outputs'\n",
    "\n",
    "# igm absorption\n",
    "params['APPLY_IGM'] = True\n",
    "\n",
    "# z (NOTE: I am doing z_step = 0.1, which aligns with the templates, to avoid issues with the SFH creation)\n",
    "# if the steps do not match the template set, I run into issues where z_phot ~ z where template gal starts SF\n",
    "params['Z_STEP'] = 0.1\n",
    "params['Z_MIN'] = 1\n",
    "params['Z_MAX'] = 20.\n",
    "params['Z_STEP_TYPE'] = 0\n",
    "\n",
    "# making sure there is a constant prior in the P(z)\n",
    "# NOTE: This should be the same as putting 'APPLY_PRIOR' as false.\n",
    "params['PRIOR_ABZP'] = 23.9\n",
    "params['PRIOR_FILE'] = '/Users/judahluberto/constant_prior.txt'\n",
    "params['PRIOR_FILTER'] = 375\n",
    "\n",
    "# I don't want EAZY to tell me everything\n",
    "params['VERBOSITY'] = 0\n",
    "\n",
    "# the template file\n",
    "\n",
    "# CHANGE THIS IF YOU WANT A DIFFERENT TEMPLATE SET (e.g. THE LYA VERSION)\n",
    "params['TEMPLATES_FILE'] = 'templates/Luberto_et_al_WITHOUT_LYA/ARES.param'\n",
    "params['WAVELENGTH_FILE'] = 'templates/Luberto_et_al_WITHOUT_LYA/wavelengths.def'\n",
    "\n",
    "# template error\n",
    "params['TEMP_ERR_FILE'] = 'templates/template_error_cosmos2020.txt'"
   ]
  },
  {
   "cell_type": "code",
   "execution_count": 4,
   "id": "34b1f21e",
   "metadata": {},
   "outputs": [],
   "source": [
    "# so eazy can translate the filters\n",
    "translate_file = os.path.join(os.getenv('EAZYCODE'), 'inputs/zphot.translate')"
   ]
  },
  {
   "cell_type": "code",
   "execution_count": 5,
   "id": "94369655",
   "metadata": {
    "scrolled": true
   },
   "outputs": [
    {
     "name": "stdout",
     "output_type": "stream",
     "text": [
      "Read default param file: /Users/judahluberto/opt/anaconda3/lib/python3.9/site-packages/eazy/data/zphot.param.default\n",
      "Read CATALOG_FILE: /Users/judahluberto/hainline_2023_highz_changed.csv\n",
      "   >>> NOBJ = 715\n",
      "f_f606w e_f606w ( 14): hst/wfpc2_f606w.dat\n",
      "f_f814w e_f814w ( 16): hst/wfpc2_f814w.dat\n",
      "f_f444w e_f444w (377): jwst_nircam_f444w\n",
      "f_f200w e_f200w (366): jwst_nircam_f200w\n",
      "f_f356w e_f356w (376): jwst_nircam_f356w\n",
      "f_f277w e_f277w (375): jwst_nircam_f277w\n",
      "f_f070w e_f070w (362): jwst_nircam_f070w\n",
      "f_f115w e_f115w (364): jwst_nircam_f115w\n",
      "f_f090w e_f090w (350): jwst_niriss_f090w\n",
      "f_f150w e_f150w (365): jwst_nircam_f150w\n",
      "f_f410m e_f410m (383): jwst_nircam_f410m\n",
      "f_f182m e_f182m (370): jwst_nircam_f182m\n",
      "f_f210m e_f210m (371): jwst_nircam_f210m\n",
      "f_f335m e_f335m (381): jwst_nircam_f335m\n",
      "f_f430m e_f430m (384): jwst_nircam_f430m\n",
      "f_f435w e_f435w (233): hst/ACS_update_sep07/wfc_f435w_t81.dat\n",
      "f_f775w e_f775w (216): hst/wfc3/UVIS/f775w.dat\n",
      "f_f850lp e_f850lp ( 17): hst/wfpc2_f850lp.dat\n",
      "Read PRIOR_FILE:  /Users/judahluberto/constant_prior.txt\n",
      "Template grid: templates/Luberto_et_al_WITHOUT_LYA/ARES.param (this may take some time)\n"
     ]
    },
    {
     "name": "stderr",
     "output_type": "stream",
     "text": [
      "  0%|                                                                    | 0/26 [00:00<?, ?it/s]<frozen importlib._bootstrap>:228: RuntimeWarning: scipy._lib.messagestream.MessageStream size changed, may indicate binary incompatibility. Expected 56 from C header, got 64 from PyObject\n",
      "<frozen importlib._bootstrap>:228: RuntimeWarning: scipy._lib.messagestream.MessageStream size changed, may indicate binary incompatibility. Expected 56 from C header, got 64 from PyObject\n",
      "<frozen importlib._bootstrap>:228: RuntimeWarning: scipy._lib.messagestream.MessageStream size changed, may indicate binary incompatibility. Expected 56 from C header, got 64 from PyObject\n",
      "<frozen importlib._bootstrap>:228: RuntimeWarning: scipy._lib.messagestream.MessageStream size changed, may indicate binary incompatibility. Expected 56 from C header, got 64 from PyObject\n",
      "<frozen importlib._bootstrap>:228: RuntimeWarning: scipy._lib.messagestream.MessageStream size changed, may indicate binary incompatibility. Expected 56 from C header, got 64 from PyObject\n",
      "<frozen importlib._bootstrap>:228: RuntimeWarning: scipy._lib.messagestream.MessageStream size changed, may indicate binary incompatibility. Expected 56 from C header, got 64 from PyObject\n",
      "<frozen importlib._bootstrap>:228: RuntimeWarning: scipy._lib.messagestream.MessageStream size changed, may indicate binary incompatibility. Expected 56 from C header, got 64 from PyObject\n",
      "<frozen importlib._bootstrap>:228: RuntimeWarning: scipy._lib.messagestream.MessageStream size changed, may indicate binary incompatibility. Expected 56 from C header, got 64 from PyObject\n",
      "100%|███████████████████████████████████████████████████████████| 26/26 [05:13<00:00, 12.06s/it]\n"
     ]
    },
    {
     "name": "stdout",
     "output_type": "stream",
     "text": [
      "Template   0: ARES_index=25.fits (NZ=131).\n",
      "Template   1: ARES_index=50.fits (NZ=131).\n",
      "Template   2: ARES_index=75.fits (NZ=131).\n",
      "Template   3: ARES_index=100.fits (NZ=131).\n",
      "Template   4: ARES_index=150.fits (NZ=131).\n",
      "Template   5: ARES_index=200.fits (NZ=131).\n",
      "Template   6: ARES_index=250.fits (NZ=131).\n",
      "Template   7: ARES_index=300.fits (NZ=131).\n",
      "Template   8: ARES_index=350.fits (NZ=131).\n",
      "Template   9: ARES_index=400.fits (NZ=131).\n",
      "Template  10: ARES_index=500.fits (NZ=131).\n",
      "Template  11: ARES_index=600.fits (NZ=131).\n",
      "Template  12: ARES_index=700.fits (NZ=131).\n",
      "Template  13: ARES_index=25_burst.fits (NZ=131).\n",
      "Template  14: ARES_index=50_burst.fits (NZ=131).\n",
      "Template  15: ARES_index=75_burst.fits (NZ=131).\n",
      "Template  16: ARES_index=100_burst.fits (NZ=131).\n",
      "Template  17: ARES_index=150_burst.fits (NZ=131).\n",
      "Template  18: ARES_index=200_burst.fits (NZ=131).\n",
      "Template  19: ARES_index=250_burst.fits (NZ=131).\n",
      "Template  20: ARES_index=300_burst.fits (NZ=131).\n",
      "Template  21: ARES_index=350_burst.fits (NZ=131).\n",
      "Template  22: ARES_index=400_burst.fits (NZ=131).\n",
      "Template  23: ARES_index=500_burst.fits (NZ=131).\n",
      "Template  24: ARES_index=600_burst.fits (NZ=131).\n",
      "Template  25: ARES_index=700_burst.fits (NZ=131).\n",
      "Process templates: 314.582 s\n"
     ]
    },
    {
     "name": "stderr",
     "output_type": "stream",
     "text": [
      "190it [00:00, 3623.05it/s]\n"
     ]
    }
   ],
   "source": [
    "# create EAZY instance\n",
    "# which creates the tempfilt array, explained in the README of the repo\n",
    "without_lya = eazy.photoz.PhotoZ(param_file=None, translate_file=translate_file, zeropoint_file=None, \n",
    "                          params=params, load_prior=True, load_products=False)"
   ]
  },
  {
   "cell_type": "code",
   "execution_count": 6,
   "id": "5d732d96",
   "metadata": {},
   "outputs": [
    {
     "name": "stderr",
     "output_type": "stream",
     "text": [
      "  0%|                                                                   | 0/190 [00:00<?, ?it/s]<frozen importlib._bootstrap>:228: RuntimeWarning: scipy._lib.messagestream.MessageStream size changed, may indicate binary incompatibility. Expected 56 from C header, got 64 from PyObject\n",
      "  1%|▎                                                          | 1/190 [00:05<16:11,  5.14s/it]<frozen importlib._bootstrap>:228: RuntimeWarning: scipy._lib.messagestream.MessageStream size changed, may indicate binary incompatibility. Expected 56 from C header, got 64 from PyObject\n",
      "<frozen importlib._bootstrap>:228: RuntimeWarning: scipy._lib.messagestream.MessageStream size changed, may indicate binary incompatibility. Expected 56 from C header, got 64 from PyObject\n",
      "<frozen importlib._bootstrap>:228: RuntimeWarning: scipy._lib.messagestream.MessageStream size changed, may indicate binary incompatibility. Expected 56 from C header, got 64 from PyObject\n",
      "<frozen importlib._bootstrap>:228: RuntimeWarning: scipy._lib.messagestream.MessageStream size changed, may indicate binary incompatibility. Expected 56 from C header, got 64 from PyObject\n",
      "<frozen importlib._bootstrap>:228: RuntimeWarning: scipy._lib.messagestream.MessageStream size changed, may indicate binary incompatibility. Expected 56 from C header, got 64 from PyObject\n",
      "<frozen importlib._bootstrap>:228: RuntimeWarning: scipy._lib.messagestream.MessageStream size changed, may indicate binary incompatibility. Expected 56 from C header, got 64 from PyObject\n",
      "  1%|▌                                                          | 2/190 [00:07<10:56,  3.49s/it]<frozen importlib._bootstrap>:228: RuntimeWarning: scipy._lib.messagestream.MessageStream size changed, may indicate binary incompatibility. Expected 56 from C header, got 64 from PyObject\n",
      "100%|█████████████████████████████████████████████████████████| 190/190 [00:36<00:00,  5.18it/s]\n"
     ]
    },
    {
     "name": "stdout",
     "output_type": "stream",
     "text": [
      "Compute best fits\n",
      "fit_best: 1.6 s (n_proc=1,  NOBJ=715)\n",
      "Fit 38.7 s (n_proc=8, NOBJ=715)\n"
     ]
    }
   ],
   "source": [
    "# Full catalog\n",
    "without_lya.set_sys_err(positive=True)\n",
    "sample = np.isfinite(without_lya.ZSPEC)\n",
    "\n",
    "# perform the fits!\n",
    "without_lya.fit_catalog(without_lya.idx[sample], n_proc=8)"
   ]
  },
  {
   "cell_type": "code",
   "execution_count": 7,
   "id": "11db95b7",
   "metadata": {},
   "outputs": [
    {
     "name": "stdout",
     "output_type": "stream",
     "text": [
      "fit_best: 5.4 s (n_proc=1,  NOBJ=715)\n"
     ]
    },
    {
     "name": "stderr",
     "output_type": "stream",
     "text": [
      "100%|█████████████████████████████████████████████████████████| 715/715 [00:27<00:00, 26.03it/s]\n",
      "WARNING: VerifyWarning: Keyword name 'TEMP_ERR_FILE' is greater than 8 characters or contains characters not allowed by the FITS standard; a HIERARCH card will be created. [astropy.io.fits.card]\n",
      "WARNING: VerifyWarning: Keyword name 'TEMP_ERR_A2' is greater than 8 characters or contains characters not allowed by the FITS standard; a HIERARCH card will be created. [astropy.io.fits.card]\n",
      "WARNING: VerifyWarning: Keyword name 'PRIOR_FILTER' is greater than 8 characters or contains characters not allowed by the FITS standard; a HIERARCH card will be created. [astropy.io.fits.card]\n",
      "WARNING: VerifyWarning: Keyword name 'PRIOR_ABZP' is greater than 8 characters or contains characters not allowed by the FITS standard; a HIERARCH card will be created. [astropy.io.fits.card]\n",
      "WARNING: VerifyWarning: Keyword name 'IGM_SCALE_TAU' is greater than 8 characters or contains characters not allowed by the FITS standard; a HIERARCH card will be created. [astropy.io.fits.card]\n",
      "WARNING: VerifyWarning: Keyword name 'APPLY_IGM' is greater than 8 characters or contains characters not allowed by the FITS standard; a HIERARCH card will be created. [astropy.io.fits.card]\n",
      "WARNING: VerifyWarning: Keyword name 'TEMPLATES_FILE' is greater than 8 characters or contains characters not allowed by the FITS standard; a HIERARCH card will be created. [astropy.io.fits.card]\n",
      "WARNING: VerifyWarning: Keyword name 'ZBEST_USER' is greater than 8 characters or contains characters not allowed by the FITS standard; a HIERARCH card will be created. [astropy.io.fits.card]\n",
      "WARNING: VerifyWarning: Keyword name 'ZBEST_AT_ZSPEC' is greater than 8 characters or contains characters not allowed by the FITS standard; a HIERARCH card will be created. [astropy.io.fits.card]\n",
      "WARNING: VerifyWarning: Keyword name 'ZML_WITH_PRIOR' is greater than 8 characters or contains characters not allowed by the FITS standard; a HIERARCH card will be created. [astropy.io.fits.card]\n",
      "WARNING: VerifyWarning: Keyword name 'ZML_WITH_BETA_PRIOR' is greater than 8 characters or contains characters not allowed by the FITS standard; a HIERARCH card will be created. [astropy.io.fits.card]\n",
      "WARNING: VerifyWarning: Card is too long, comment will be truncated. [astropy.io.fits.card]\n"
     ]
    }
   ],
   "source": [
    "# get the parameters I want\n",
    "# I pulled this from an EAZY demo...\n",
    "warnings.simplefilter('ignore', category=RuntimeWarning)\n",
    "\n",
    "zout_without_lya, hdu = without_lya.standard_output(simple=False, \n",
    "                                 rf_pad_width=0.5, rf_max_err=2, \n",
    "                                 prior=True, beta_prior=True, \n",
    "                                 absmag_filters=[], \n",
    "                                 extra_rf_filters=[],\n",
    "                                 template_fnu_units=u.Lsun/u.Hz)"
   ]
  },
  {
   "cell_type": "markdown",
   "id": "926fc252",
   "metadata": {},
   "source": [
    "# Step 2: Setup for this\n",
    "\n",
    "Such as getting some arrays that are useful. And setting up a function."
   ]
  },
  {
   "cell_type": "code",
   "execution_count": 8,
   "id": "50af76ff",
   "metadata": {},
   "outputs": [],
   "source": [
    "# you can get these by running an ARES instance, but let's just load them here\n",
    "redshifts = np.loadtxt('ares_z.txt')\n",
    "times = np.loadtxt('ares_t.txt')\n",
    "\n",
    "# files of the SFHs and stellar masses OF THE TEMPLATES (in order)\n",
    "#sfhs = np.loadtxt('ares_sfhs.txt')\n",
    "stellarmasses = np.loadtxt('ares_stellarmasses.txt')"
   ]
  },
  {
   "cell_type": "markdown",
   "id": "57894acb",
   "metadata": {},
   "source": [
    "I need to convert the coeffs into physical values to directly get the stellar mass contributions."
   ]
  },
  {
   "cell_type": "code",
   "execution_count": 9,
   "id": "6a7ff986",
   "metadata": {},
   "outputs": [],
   "source": [
    "cosmology = ares.physics.Cosmology()\n",
    "\n",
    "def calc_to_physical(eazyinstance, gal):\n",
    "    # I need the luminosity distance\n",
    "    dL = cosmology.LuminosityDistance(eazyinstance.zbest[gal]) * u.cm\n",
    "\n",
    "    # and also to convert between units\n",
    "    fnu_units = u.erg/u.s/u.cm**2/u.Hz\n",
    "    uJy_to_cgs = u.microJansky.to(u.erg/u.s/u.cm**2/u.Hz)\n",
    "\n",
    "    fnu_scl = 10**(-0.4*(23.9-23.9))*uJy_to_cgs\n",
    "\n",
    "    to_physical = fnu_scl*fnu_units*4*np.pi*dL**2/(1+eazyinstance.zbest[gal])\n",
    "    to_physical /= (1*u.Lsun/u.Hz).to(u.erg/u.second/u.Hz)\n",
    "    \n",
    "    return to_physical"
   ]
  },
  {
   "cell_type": "markdown",
   "id": "47949078",
   "metadata": {},
   "source": [
    "If in the paper I define bustiness as\n",
    "\n",
    "$$\n",
    "\\mathrm{B = \\frac{M_{bust}}{M_{burst} +  + M_{gal}}}\n",
    "$$\n",
    "\n",
    "And here I define the burst as\n",
    "\n",
    "$$\n",
    "f  = \\mathrm{\\frac{M_{burst}}{M_{gal}}}\n",
    "$$\n",
    "\n",
    "Then the equation becomes\n",
    "\n",
    "$$\n",
    "\\mathrm{B} = \\frac{f \\mathrm{M_{gal}}}{\\mathrm{M_{burst} +  + M_{gal}}}\n",
    "$$\n",
    "\n",
    "And the solution to finding what $f$ should be given a desired $\\mathrm{B}$ is\n",
    "\n",
    "$$\n",
    "f = \\mathrm{\\frac{B}{1 - B}}.\n",
    "$$"
   ]
  },
  {
   "cell_type": "code",
   "execution_count": 10,
   "id": "3d9e905c",
   "metadata": {},
   "outputs": [],
   "source": [
    "# therefore I get a max burst of:\n",
    "max_burst = 0.5"
   ]
  },
  {
   "cell_type": "markdown",
   "id": "9edc227a",
   "metadata": {},
   "source": [
    "Here's a function which adds some amount of burst to the native SFHs in EAZY at 10 Myr before observation. I need to do this for each object because the burst is always 5 Myr before observation, and each object is observed at a different spot.\n",
    "\n",
    "So I add the burst to the ARES template SFHs for our \"set\" which has the burst component (explained more in the paper)."
   ]
  },
  {
   "cell_type": "code",
   "execution_count": 11,
   "id": "8d7f1dad",
   "metadata": {},
   "outputs": [],
   "source": [
    "# a function to get the burst SFHs in a way that I want!\n",
    "def burst_sfhs(zbest_i, burst_t_i):\n",
    "    # multiplicative factor for burst for each ARES gal\n",
    "    burst_amounts = stellarmasses[:, zbest_i] * max_burst\n",
    "    \n",
    "    # get the burst contributions for each ARES gal\n",
    "    burst_array = np.tile(burst_add, (stellarmasses.shape[0], 1)) * burst_amounts[:, np.newaxis]\n",
    "    \n",
    "    # add to the sfhs for each ARES gal\n",
    "    sfhs_copy = sfhs.copy()\n",
    "    \n",
    "    sfhs_copy[:, burst_t_i:zbest_i+1] += burst_array\n",
    "    \n",
    "    return sfhs_copy"
   ]
  },
  {
   "cell_type": "markdown",
   "id": "27f51bc9",
   "metadata": {},
   "source": [
    "# Step 3: Find the burstiness\n",
    "\n",
    "To ready ourselves up for finding the burstiness, we have to realize that "
   ]
  },
  {
   "cell_type": "code",
   "execution_count": 12,
   "id": "86ebffe8",
   "metadata": {},
   "outputs": [],
   "source": [
    "# fitting coeffs\n",
    "coeffs_without = without_lya.coeffs_best"
   ]
  },
  {
   "cell_type": "code",
   "execution_count": 13,
   "id": "eb863b46",
   "metadata": {},
   "outputs": [],
   "source": [
    "perc_burst_without = list()\n",
    "for index, zfit in enumerate(without_lya.zbest):\n",
    "    zi_temp = abs(redshifts - zfit).argmin()\n",
    "    \n",
    "    # convert coeffs from EAZY into physical units\n",
    "    coeffs_physical = coeffs_without * calc_to_physical(without_lya, index)\n",
    "    \n",
    "    # get mass formed not by burst (regular gal formation) and by bursts\n",
    "    mass_gals = np.sum(stellarmasses[:, zi_temp] * (coeffs_physical[index, :stellarmasses.shape[0]] + coeffs_physical[index, stellarmasses.shape[0]:])).value\n",
    "    mass_burst = np.sum(stellarmasses[:, zi_temp] * coeffs_physical[index, stellarmasses.shape[0]:] * max_burst).value\n",
    "    \n",
    "    perc_burst_without.append(mass_burst / (mass_gals + mass_burst))\n",
    "    \n",
    "perc_burst_without = np.array(perc_burst_without)"
   ]
  },
  {
   "cell_type": "markdown",
   "id": "504663ea",
   "metadata": {},
   "source": [
    "# Step 4: Split into low, mid, and high mass gals.\n",
    "\n",
    "I split the gals up for the paper plot. This is a lot like what I'm doing in the SFHs tutorial, but I'm doing it here as well.\n",
    "\n",
    "I need to get the total stellar mass...I could pull it from EAZY, but just to make sure I am creating an ARES instance, calculating the stellar mass growth history, and getting the exact stellar mass. \n",
    "\n",
    "Secretly, I am doing this here because my code to get the paper plots combined the information in this tutorial and the finding SFHs tutorial, and I'm splitting the code into two for the sake of showing off how to do what I did. But there was overlap...as you can tell.\n",
    "\n",
    "However, the real point of this tutorial is to show how I can get the burst percentage, which was done above, so I don't feel too bad about doing this here."
   ]
  },
  {
   "cell_type": "code",
   "execution_count": 14,
   "id": "201e28f4",
   "metadata": {},
   "outputs": [],
   "source": [
    "# my arrays of high mid low mass etc\n",
    "# for 8 < z < 10\n",
    "is_low_mass_8_to_10 = (5e7 > zout_without_lya['mass']) \\\n",
    "                      & (8 < without_lya.zbest) & (without_lya.zbest < 10)\n",
    "is_mid_mass_8_to_10 = (5e7 < zout_without_lya['mass']) & (zout_without_lya['mass'] < 5e8) \\\n",
    "                      & (8 < without_lya.zbest) & (without_lya.zbest < 10)\n",
    "is_high_mass_8_to_10 = (zout_without_lya['mass'] > 5e8) & (8 < without_lya.zbest) & (without_lya.zbest < 10)\n",
    "\n",
    "# for 10\n",
    "is_low_mass_10_to_12 = (5e7 > zout_without_lya['mass']) \\\n",
    "                      & (10 < without_lya.zbest) & (without_lya.zbest < 12)\n",
    "is_mid_mass_10_to_12 = (5e7 < zout_without_lya['mass']) & (zout_without_lya['mass'] < 5e8) \\\n",
    "                      & (10 < without_lya.zbest) & (without_lya.zbest < 12)\n",
    "is_high_mass_10_to_12 = (zout_without_lya['mass'] > 5e8) & (10 < without_lya.zbest) & (without_lya.zbest < 12)"
   ]
  },
  {
   "cell_type": "markdown",
   "id": "783e14a2",
   "metadata": {},
   "source": [
    "# Step 4: Make the plot I have in the paper!"
   ]
  },
  {
   "cell_type": "code",
   "execution_count": 16,
   "id": "c0df18a1",
   "metadata": {},
   "outputs": [
    {
     "data": {
      "image/png": "[encoded data removed]",
      "text/plain": [
       "<Figure size 1440x360 with 3 Axes>"
      ]
     },
     "metadata": {
      "needs_background": "light"
     },
     "output_type": "display_data"
    }
   ],
   "source": [
    "fig, axs = plt.subplots(ncols=3, figsize=(20,5), sharey=True, sharex=True)\n",
    "\n",
    "fig.subplots_adjust(wspace=0.05)\n",
    "\n",
    "axs[0].hist(perc_burst_without[is_low_mass_8_to_10], bins=20, edgecolor='black', linewidth=1.2, label='z = 8 - 10')#, density=True)\n",
    "axs[0].hist(perc_burst_without[is_low_mass_10_to_12], bins=35, edgecolor='black', linewidth=1.2, label='z = 10 - 12')#, density=True)\n",
    "\n",
    "axs[1].hist(perc_burst_without[is_mid_mass_8_to_10], bins=15, edgecolor='black', linewidth=1.2)#, density=True)\n",
    "axs[1].hist(perc_burst_without[is_mid_mass_10_to_12], bins=10, edgecolor='black', linewidth=1.2)#, density=True)\n",
    "\n",
    "axs[2].hist(perc_burst_without[is_high_mass_8_to_10], bins=2, edgecolor='black', linewidth=1.2)#, density=True)\n",
    "axs[2].hist(perc_burst_without[is_high_mass_10_to_12], bins=50, edgecolor='black', linewidth=1.2)#, density=True)\n",
    "\n",
    "axs[0].set_yscale('log')\n",
    "axs[1].set_yscale('log')\n",
    "axs[2].set_yscale('log')\n",
    "\n",
    "axs[0].set_xlim(0, 0.34)\n",
    "axs[1].set_xlim(0, 0.34)\n",
    "axs[2].set_xlim(0, 0.34)\n",
    "\n",
    "axs[0].set_ylabel('N. of Galaxies', fontsize=16)\n",
    "axs[0].set_xlabel('Fractional Burstiness', fontsize=16)\n",
    "axs[1].set_xlabel('Fractional Burstiness', fontsize=16)\n",
    "axs[2].set_xlabel('Fractional Burstiness', fontsize=16)\n",
    "\n",
    "axs[0].tick_params(axis='both', which='major', labelsize=15)\n",
    "axs[1].tick_params(axis='both', which='major', labelsize=15)\n",
    "axs[2].tick_params(axis='both', which='major', labelsize=15)\n",
    "\n",
    "axs[0].legend(fontsize=14, loc='upper left')\n",
    "\n",
    "axs[0].text(0.52, 0.9, r'$\\rm{log \\;} M_{*} / M_{\\odot}$ < 7.7', transform=axs[0].transAxes, fontsize=20)\n",
    "axs[1].text(0.37, 0.9, r'7.7 < $\\rm{log \\;} M_{*} / M_{\\odot}$ < 8.7', transform=axs[1].transAxes, fontsize=20)\n",
    "axs[2].text(0.52, 0.9, r'$\\rm{log \\;} M_{*} / M_{\\odot}$ > 8.7', transform=axs[2].transAxes, fontsize=20)\n",
    "\n",
    "#plt.savefig('hainline_bursts.pdf', bbox_inches='tight')\n",
    "\n",
    "plt.show()"
   ]
  },
  {
   "cell_type": "code",
   "execution_count": null,
   "id": "4e38c606",
   "metadata": {},
   "outputs": [],
   "source": []
  }
 ],
 "metadata": {
  "kernelspec": {
   "display_name": "Python 3 (ipykernel)",
   "language": "python",
   "name": "python3"
  },
  "language_info": {
   "codemirror_mode": {
    "name": "ipython",
    "version": 3
   },
   "file_extension": ".py",
   "mimetype": "text/x-python",
   "name": "python",
   "nbconvert_exporter": "python",
   "pygments_lexer": "ipython3",
   "version": "3.9.7"
  }
 },
 "nbformat": 4,
 "nbformat_minor": 5
}
